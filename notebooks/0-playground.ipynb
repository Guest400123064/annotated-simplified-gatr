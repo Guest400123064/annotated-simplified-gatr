{
 "cells": [
  {
   "cell_type": "code",
   "execution_count": 1,
   "metadata": {},
   "outputs": [],
   "source": [
    "import sys\n",
    "sys.path.append(\"../src\")\n",
    "\n",
    "import torch\n",
    "\n",
    "from ezgatr.nets.mv_only_gatr import MVOnlyGATrConfig, MVOnlyGATrModel\n",
    "\n",
    "\n",
    "dev = \"cuda:0\"\n",
    "cfg = MVOnlyGATrConfig()\n",
    "net = MVOnlyGATrModel(cfg).to(dev)\n",
    "out = net(torch.randn(8, 256, 32, 16).to(dev))"
   ]
  },
  {
   "cell_type": "code",
   "execution_count": null,
   "metadata": {},
   "outputs": [],
   "source": []
  }
 ],
 "metadata": {
  "kernelspec": {
   "display_name": "ggpt",
   "language": "python",
   "name": "python3"
  },
  "language_info": {
   "codemirror_mode": {
    "name": "ipython",
    "version": 3
   },
   "file_extension": ".py",
   "mimetype": "text/x-python",
   "name": "python",
   "nbconvert_exporter": "python",
   "pygments_lexer": "ipython3",
   "version": "3.12.4"
  }
 },
 "nbformat": 4,
 "nbformat_minor": 2
}
