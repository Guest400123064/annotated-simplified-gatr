{
 "cells": [
  {
   "cell_type": "code",
   "execution_count": 1,
   "metadata": {},
   "outputs": [],
   "source": [
    "import torch\n",
    "\n",
    "from ezgatr.nets.mv_only_gatr import MVOnlyGATrConfig, MVOnlyGATrModel\n",
    "\n",
    "\n",
    "dev = \"cuda:0\"\n",
    "cfg = MVOnlyGATrConfig(size_channels_in=2)\n",
    "net = MVOnlyGATrModel(cfg).to(dev)\n",
    "in_ = torch.randn(8, 256, 2, 16).to(dev)\n",
    "out = net(in_)"
   ]
  },
  {
   "cell_type": "code",
   "execution_count": null,
   "metadata": {},
   "outputs": [],
   "source": []
  }
 ],
 "metadata": {
  "kernelspec": {
   "display_name": "ggpt",
   "language": "python",
   "name": "python3"
  },
  "language_info": {
   "codemirror_mode": {
    "name": "ipython",
    "version": 3
   },
   "file_extension": ".py",
   "mimetype": "text/x-python",
   "name": "python",
   "nbconvert_exporter": "python",
   "pygments_lexer": "ipython3",
   "version": "3.11.4"
  }
 },
 "nbformat": 4,
 "nbformat_minor": 2
}
