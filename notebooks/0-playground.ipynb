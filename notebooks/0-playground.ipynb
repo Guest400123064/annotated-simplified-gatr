{
 "cells": [
  {
   "cell_type": "code",
   "execution_count": 1,
   "metadata": {},
   "outputs": [],
   "source": [
    "import sys\n",
    "from functools import reduce\n",
    "sys.path.append(\"../src\")\n",
    "\n",
    "import torch\n",
    "\n",
    "from ezgatr.nets.mv_only_gatr import MVOnlyGATrConfig, MVOnlyGATrBlock\n",
    "\n",
    "\n",
    "dev = \"cuda:0\"\n",
    "cfg = MVOnlyGATrConfig()\n",
    "net = [MVOnlyGATrBlock(cfg, i).to(dev) for i in range(12)]\n",
    "out = reduce(lambda x, f: f(x), net, torch.randn(8, 256, 32, 16).to(dev))"
   ]
  },
  {
   "cell_type": "code",
   "execution_count": 10,
   "metadata": {},
   "outputs": [
    {
     "data": {
      "text/plain": [
       "[('attn_mix_ipa', torch.Size([4, 1, 32, 1])),\n",
       " ('attn_mix_daa', torch.Size([4, 1, 32, 1])),\n",
       " ('layer_norm.weight', torch.Size([32])),\n",
       " ('proj_qkv.weight', torch.Size([384, 32, 9])),\n",
       " ('proj_qkv.bias', torch.Size([384])),\n",
       " ('proj_out.weight', torch.Size([32, 128, 9])),\n",
       " ('proj_out.bias', torch.Size([32]))]"
      ]
     },
     "execution_count": 10,
     "metadata": {},
     "output_type": "execute_result"
    }
   ],
   "source": [
    "[(n, v.shape) for n, v in net[0].attn.named_parameters()]"
   ]
  },
  {
   "cell_type": "code",
   "execution_count": null,
   "metadata": {},
   "outputs": [],
   "source": []
  }
 ],
 "metadata": {
  "kernelspec": {
   "display_name": "ggpt",
   "language": "python",
   "name": "python3"
  },
  "language_info": {
   "codemirror_mode": {
    "name": "ipython",
    "version": 3
   },
   "file_extension": ".py",
   "mimetype": "text/x-python",
   "name": "python",
   "nbconvert_exporter": "python",
   "pygments_lexer": "ipython3",
   "version": "3.12.4"
  }
 },
 "nbformat": 4,
 "nbformat_minor": 2
}
