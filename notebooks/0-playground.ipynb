{
 "cells": [
  {
   "cell_type": "code",
   "execution_count": 4,
   "metadata": {},
   "outputs": [],
   "source": [
    "import sys\n",
    "sys.path.append(\"../src\")\n",
    "\n",
    "import torch\n",
    "\n",
    "from ezgatr.nets.mv_only_gatr import MVOnlyGATrConfig, MVOnlyGATrBlock\n",
    "\n",
    "\n",
    "cfg = MVOnlyGATrConfig()\n",
    "net = MVOnlyGATrBlock(cfg, 0).to(\"cuda:0\")\n",
    "\n",
    "x = torch.randn(8, 1024, 32, 16).to(\"cuda:0\")\n",
    "y = net(x)"
   ]
  },
  {
   "cell_type": "code",
   "execution_count": null,
   "metadata": {},
   "outputs": [],
   "source": []
  }
 ],
 "metadata": {
  "kernelspec": {
   "display_name": "ggpt",
   "language": "python",
   "name": "python3"
  },
  "language_info": {
   "codemirror_mode": {
    "name": "ipython",
    "version": 3
   },
   "file_extension": ".py",
   "mimetype": "text/x-python",
   "name": "python",
   "nbconvert_exporter": "python",
   "pygments_lexer": "ipython3",
   "version": "3.12.4"
  }
 },
 "nbformat": 4,
 "nbformat_minor": 2
}
